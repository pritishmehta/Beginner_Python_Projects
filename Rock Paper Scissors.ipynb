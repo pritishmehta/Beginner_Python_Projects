{
 "cells": [
  {
   "cell_type": "code",
   "execution_count": 36,
   "metadata": {},
   "outputs": [
    {
     "name": "stdout",
     "output_type": "stream",
     "text": [
      "Do you want to play against computer?no\n",
      "User 1 Choose your weapon\n",
      "'R- Rock\n",
      "P-Paper\n",
      "S-Scissors'R\n",
      "User 2 Choose your weapon\n",
      "'R- Rock\n",
      "P-Paper\n",
      "S-Scissors'S\n",
      "User 1 Chose R\n",
      "User 2 Chose S\n",
      "User 1  Won!\n"
     ]
    }
   ],
   "source": [
    "import random\n",
    "a = input(\"Do you want to play against computer? '(Yes/No)'\")\n",
    "if a.lower()== 'yes':\n",
    "    RPC = ['R','P','S']\n",
    "    comp = random.choice(RPC)\n",
    "    user = input(\"Choose your weapon\\n'R- Rock\\nP-Paper\\nS-Scissors'\")\n",
    "    if user.lower() == comp.lower():\n",
    "        print ('Computer Chose',comp)\n",
    "        print ('Tie')\n",
    "    elif user.lower() == 'r' and comp.lower()== 's':\n",
    "        print ('Computer Chose',comp)\n",
    "        print (\"Congrats You Won!\")\n",
    "    elif user.lower ()== 'p' and comp.lower()== 'r':\n",
    "        print ('Computer Chose',comp)\n",
    "        print (\"Congrats You Won!\")\n",
    "    elif user.lower ()== 's' and comp.lower()== 'p':\n",
    "        print ('Computer Chose',comp)\n",
    "        print (\"Congrats You Won!\")\n",
    "    else:\n",
    "        print ('Computer Chose',comp)\n",
    "        print ('Computer Won!')\n",
    "elif a.lower()=='no':\n",
    "    user_1 = input(\"User 1 Choose your weapon\\n'R- Rock\\nP-Paper\\nS-Scissors'\")\n",
    "    user_2= input(\"User 2 Choose your weapon\\n'R- Rock\\nP-Paper\\nS-Scissors'\")\n",
    "    if user_1.lower() == user_2.lower():\n",
    "        print ('User 1 Chose',user_1)\n",
    "        print ('User 2 Chose',user_2)\n",
    "        print ('Tie')\n",
    "    elif user_1.lower() == 'r' and user_2.lower()== 's':\n",
    "        print ('User 1 Chose',user_1)\n",
    "        print ('User 2 Chose',user_2)\n",
    "        print (\"User 1  Won!\")\n",
    "    elif user_1.lower() == 'p' and user_2.lower()== 'r':\n",
    "        print ('User 1 Chose',user_1)\n",
    "        print ('User 2 Chose',user_2)\n",
    "        print (\"User 1Won!\")\n",
    "    elif user_1.lower() == 's' and user_2.lower()== 'p':\n",
    "        print ('User 1 Chose',user_1)\n",
    "        print ('User 2 Chose',user_2)\n",
    "        print (\"User 1 Won!\")\n",
    "    else:\n",
    "        print ('User 1 Chose',user_1)\n",
    "        print ('User 2 Chose',user_2)\n",
    "        print ('User 2 Won!')"
   ]
  }
 ],
 "metadata": {
  "kernelspec": {
   "display_name": "Python 3",
   "language": "python",
   "name": "python3"
  },
  "language_info": {
   "codemirror_mode": {
    "name": "ipython",
    "version": 3
   },
   "file_extension": ".py",
   "mimetype": "text/x-python",
   "name": "python",
   "nbconvert_exporter": "python",
   "pygments_lexer": "ipython3",
   "version": "3.7.6"
  }
 },
 "nbformat": 4,
 "nbformat_minor": 4
}

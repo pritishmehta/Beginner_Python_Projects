{
 "cells": [
  {
   "cell_type": "code",
   "execution_count": null,
   "metadata": {},
   "outputs": [],
   "source": [
    "print ('What would you like to do?\\n1. Addition\\n2. Subtraction\\n3. Multiplication\\n4. Division\\n5. Square\\n6. Cube')\n",
    "inp = int(input('Select the number'))\n",
    "if inp == 1:\n",
    "    x=int(input(\"Enter First Number: \"))\n",
    "    y=int(input(\"Enter Second Number: \"))\n",
    "    a=x+ y\n",
    "    print(\"Sum of the 2 numbers is :-\",a)\n",
    "elif inp ==2:\n",
    "    x=int(input(\"Enter First Number: \"))\n",
    "    y=int(input(\"Enter Second Number: \"))\n",
    "    a=x-y\n",
    "    print(\"Difference of the 2 numbers is :-\",a)\n",
    "elif inp == 3:\n",
    "    x=int(input(\"Enter First Number: \"))\n",
    "    y=int(input(\"Enter Second Number: \"))\n",
    "    a=x*y\n",
    "    print(\"Product of the 2 numbers is :-\",a)\n",
    "elif inp==4:\n",
    "    x=int(input(\"Enter First Number: \"))\n",
    "    y=int(input(\"Enter Second Number: \"))\n",
    "    a = x/y\n",
    "    print(\"Quotient of the 2 numbers is :-\",a)\n",
    "elif inp ==5:\n",
    "    x=int(input(\"Enter Number: \"))\n",
    "    a=x**2\n",
    "    print (\"Square of the number is :-\",a)\n",
    "elif inp == 6:\n",
    "    x=int(input(\"Enter Number: \"))\n",
    "    a=x**3\n",
    "    print (\"Cube of the number is :-\",a)"
   ]
  },
  {
   "cell_type": "code",
   "execution_count": null,
   "metadata": {},
   "outputs": [],
   "source": [
    "print ('What would you like to do?\\n1. Addition\\n2. Subtraction\\n3. Multiplication\\n4. Division\\n5. Square\\n6. Cube')\n",
    "inp = int(input('Select the number'))\n",
    "if inp == 1:\n",
    "    x=int(input(\"Enter First Number: \"))\n",
    "    y=int(input(\"Enter Second Number: \"))\n",
    "    a=x+ y\n",
    "    print(\"Sum of the 2 numbers is :-\",a)\n",
    "elif inp ==2:\n",
    "    x=int(input(\"Enter First Number: \"))\n",
    "    y=int(input(\"Enter Second Number: \"))\n",
    "    a=x-y\n",
    "    print(\"Difference of the 2 numbers is :-\",a)\n",
    "elif inp == 3:\n",
    "    x=int(input(\"Enter First Number: \"))\n",
    "    y=int(input(\"Enter Second Number: \"))\n",
    "    a=x*y\n",
    "    print(\"Product of the 2 numbers is :-\",a)\n",
    "elif inp==4:\n",
    "    x=int(input(\"Enter First Number: \"))\n",
    "    y=int(input(\"Enter Second Number: \"))\n",
    "    a = x/y\n",
    "    print(\"Quotient of the 2 numbers is :-\",a)\n",
    "elif inp ==5:\n",
    "    x=int(input(\"Enter Number: \"))\n",
    "    a=x**2\n",
    "    print (\"Square of the number is :-\",a)\n",
    "elif inp == 6:\n",
    "    x=int(input(\"Enter Number: \"))\n",
    "    a=x**3\n",
    "    print (\"Cube of the number is :-\",a)"
   ]
  },
  {
   "cell_type": "code",
   "execution_count": null,
   "metadata": {},
   "outputs": [],
   "source": []
  }
 ],
 "metadata": {
  "kernelspec": {
   "display_name": "Python 3",
   "language": "python",
   "name": "python3"
  },
  "language_info": {
   "codemirror_mode": {
    "name": "ipython",
    "version": 3
   },
   "file_extension": ".py",
   "mimetype": "text/x-python",
   "name": "python",
   "nbconvert_exporter": "python",
   "pygments_lexer": "ipython3",
   "version": "3.7.6"
  }
 },
 "nbformat": 4,
 "nbformat_minor": 4
}

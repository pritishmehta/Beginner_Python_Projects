{
 "cells": [
  {
   "cell_type": "code",
   "execution_count": 1,
   "metadata": {},
   "outputs": [
    {
     "name": "stdout",
     "output_type": "stream",
     "text": [
      "A time:1\n",
      "Choose one \"(brother/sister)\":brother\n",
      "TV Show:F\n",
      "Color 1:Blue\n",
      "Color 2:Black\n",
      "Color 3:Red\n",
      "Color 4:Grey\n",
      "Type of Chair:Recliner\n",
      "Country:India\n",
      "Animal:Koala\n",
      "Choose one \"(mother/father)\":mother\n",
      "Day of the Week:Friday\n",
      "Lunch:Chicken\n",
      "Game:Spiderman\n",
      "Name of a person:Pritish\n",
      "Name of the car:Tesla\n",
      "Number 1:5\n",
      "Number 2:500\n",
      "It was 1 am/pm and my lazy old brother had just woken up. As I watched my favourite T.V. show, F , I sat down in my Blue Recliner. \n",
      "When the show was over, I started flipping through the channels. The news caught my eye. I heard that a Koala had been lost from the Central Zoo and was now roaming around in India.\n",
      "That was where I lived! I decided to tell my parents, but I thought that would worry them. Lunch! called my mother from the kitchen. It was Friday so we were having Chicken sandwiches for lunch.\n",
      "After lunch, I watched my mother play Spiderman. After that I decided to go call on Pritish. But he was busy. Bedtime! called my mother, Tomorrow we're going to the Zoo! The next morning I put on my Black T-shirt and my jeans.\n",
      "I thought about what the people had said on the news. I started to get worried. When we got in the Tesla, I asked, How long will the ride be? At least 5 minutes. my mom answered. On the way there I saw the colours of Red and Grey whisk by. Oh no! I gasped. Stop the car! SSSSSSCCCCCRRRRRREEEEEECCCCCCHHHHHHHH!!!!!!!!! What is it honey? asked my mom.\n",
      "On the news it said that a Koala was loose, and we just passed it! Oh honey, that's terrible! my mother said. What should we do? Pick it up and bring it to the Zoo with us, I suggested. Why dont we call the Zoo on my cell phone? said my father. We'll try anything, if it works, my mother said. My dad did so and the Central Zoo gave us 500 dollars.\n"
     ]
    }
   ],
   "source": [
    "time = input (\"A time:\")\n",
    "siblings = input('Choose one \"(brother/sister)\":')\n",
    "TV_Show =  input (\"TV Show:\")\n",
    "First_Color = input (\"Color 1:\")\n",
    "Second_Color = input (\"Color 2:\")\n",
    "Third_Color = input (\"Color 3:\")\n",
    "Fourth_Color = input (\"Color 4:\")\n",
    "Type_of_Chair = input (\"Type of Chair:\")\n",
    "Country = input (\"Country:\")\n",
    "Animal = input (\"Animal:\")\n",
    "parent = input('Choose one \"(mother/father)\":')\n",
    "Day = input (\"Day of the Week:\")\n",
    "Lunch = input (\"Lunch:\")\n",
    "Game = input (\"Game:\")\n",
    "Name = input (\"Name of a person:\")\n",
    "Car_name= input (\"Name of the car:\")\n",
    "Number_1 = input (\"Number 1:\")\n",
    "Number_2 = input (\"Number 2:\")\n",
    "\n",
    "print (\"It was {} am/pm and my lazy old {} had just woken up. As I watched my favourite T.V. show, {} , I sat down in my {} {}. \".format(time,siblings,TV_Show,First_Color, Type_of_Chair))\n",
    "print (\"When the show was over, I started flipping through the channels. The news caught my eye. I heard that a {} had been lost from the Central Zoo and was now roaming around in {}.\".format(Animal,Country))\n",
    "print (\"That was where I lived! I decided to tell my parents, but I thought that would worry them. Lunch! called my {} from the kitchen. It was {} so we were having {} sandwiches for lunch.\".format(parent,Day,Lunch))\n",
    "print (\"After lunch, I watched my {} play {}. After that I decided to go call on {}. But he was busy. Bedtime! called my {}, Tomorrow we're going to the Zoo! The next morning I put on my {} T-shirt and my jeans.\".format(parent,Game,Name,parent,Second_Color))\n",
    "print (\"I thought about what the people had said on the news. I started to get worried. When we got in the {}, I asked, How long will the ride be? At least {} minutes. my mom answered. On the way there I saw the colours of {} and {} whisk by. Oh no! I gasped. Stop the car! SSSSSSCCCCCRRRRRREEEEEECCCCCCHHHHHHHH!!!!!!!!! What is it honey? asked my mom.\".format(Car_name,Number_1,Third_Color,Fourth_Color))\n",
    "print (\"On the news it said that a {} was loose, and we just passed it! Oh honey, that's terrible! my {} said. What should we do? Pick it up and bring it to the Zoo with us, I suggested. Why dont we call the Zoo on my cell phone? said my father. We'll try anything, if it works, my {} said. My dad did so and the Central Zoo gave us {} dollars.\".format(Animal,parent,parent,Number_2))"
   ]
  },
  {
   "cell_type": "code",
   "execution_count": null,
   "metadata": {},
   "outputs": [],
   "source": []
  }
 ],
 "metadata": {
  "kernelspec": {
   "display_name": "Python 3",
   "language": "python",
   "name": "python3"
  },
  "language_info": {
   "codemirror_mode": {
    "name": "ipython",
    "version": 3
   },
   "file_extension": ".py",
   "mimetype": "text/x-python",
   "name": "python",
   "nbconvert_exporter": "python",
   "pygments_lexer": "ipython3",
   "version": "3.7.6"
  }
 },
 "nbformat": 4,
 "nbformat_minor": 4
}
